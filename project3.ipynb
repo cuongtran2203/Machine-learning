{
 "cells": [
  {
   "cell_type": "code",
   "execution_count": 1,
   "metadata": {},
   "outputs": [
    {
     "name": "stdout",
     "output_type": "stream",
     "text": [
      "c:\\Users\\madri\\Desktop\\data\\ml-latest\n"
     ]
    }
   ],
   "source": [
    "%cd ml-latest"
   ]
  },
  {
   "cell_type": "code",
   "execution_count": 28,
   "metadata": {},
   "outputs": [
    {
     "name": "stderr",
     "output_type": "stream",
     "text": [
      "C:\\Users\\madri\\AppData\\Local\\Programs\\Python\\Python39\\lib\\site-packages\\fuzzywuzzy\\fuzz.py:11: UserWarning: Using slow pure-python SequenceMatcher. Install python-Levenshtein to remove this warning\n",
      "  warnings.warn('Using slow pure-python SequenceMatcher. Install python-Levenshtein to remove this warning')\n"
     ]
    }
   ],
   "source": [
    "import pandas as pd\n",
    "from scipy.sparse import csc_matrix\n",
    "from sklearn.neighbors import NearestNeighbors\n",
    "from fuzzywuzzy import process\n"
   ]
  },
  {
   "cell_type": "code",
   "execution_count": 13,
   "metadata": {},
   "outputs": [],
   "source": [
    "movies='movies.csv'\n",
    "ratings='ratings.csv'\n",
    "df_movies =pd.read_csv(movies,usecols=['movieId','title'],dtype={'movieId':'float32','title':'str'})\n",
    "df_ratings=pd.read_csv(ratings,usecols=['userId','movieId','rating'],dtype={'userId':'int32','movieId':'int32','rating':'float32'})\n"
   ]
  },
  {
   "cell_type": "code",
   "execution_count": 24,
   "metadata": {},
   "outputs": [
    {
     "data": {
      "text/html": [
       "<div>\n",
       "<style scoped>\n",
       "    .dataframe tbody tr th:only-of-type {\n",
       "        vertical-align: middle;\n",
       "    }\n",
       "\n",
       "    .dataframe tbody tr th {\n",
       "        vertical-align: top;\n",
       "    }\n",
       "\n",
       "    .dataframe thead th {\n",
       "        text-align: right;\n",
       "    }\n",
       "</style>\n",
       "<table border=\"1\" class=\"dataframe\">\n",
       "  <thead>\n",
       "    <tr style=\"text-align: right;\">\n",
       "      <th></th>\n",
       "      <th>movieId</th>\n",
       "      <th>title</th>\n",
       "    </tr>\n",
       "  </thead>\n",
       "  <tbody>\n",
       "    <tr>\n",
       "      <th>0</th>\n",
       "      <td>1.0</td>\n",
       "      <td>Toy Story (1995)</td>\n",
       "    </tr>\n",
       "    <tr>\n",
       "      <th>1</th>\n",
       "      <td>2.0</td>\n",
       "      <td>Jumanji (1995)</td>\n",
       "    </tr>\n",
       "    <tr>\n",
       "      <th>2</th>\n",
       "      <td>3.0</td>\n",
       "      <td>Grumpier Old Men (1995)</td>\n",
       "    </tr>\n",
       "    <tr>\n",
       "      <th>3</th>\n",
       "      <td>4.0</td>\n",
       "      <td>Waiting to Exhale (1995)</td>\n",
       "    </tr>\n",
       "    <tr>\n",
       "      <th>4</th>\n",
       "      <td>5.0</td>\n",
       "      <td>Father of the Bride Part II (1995)</td>\n",
       "    </tr>\n",
       "    <tr>\n",
       "      <th>...</th>\n",
       "      <td>...</td>\n",
       "      <td>...</td>\n",
       "    </tr>\n",
       "    <tr>\n",
       "      <th>995</th>\n",
       "      <td>1014.0</td>\n",
       "      <td>Pollyanna (1960)</td>\n",
       "    </tr>\n",
       "    <tr>\n",
       "      <th>996</th>\n",
       "      <td>1015.0</td>\n",
       "      <td>Homeward Bound: The Incredible Journey (1993)</td>\n",
       "    </tr>\n",
       "    <tr>\n",
       "      <th>997</th>\n",
       "      <td>1016.0</td>\n",
       "      <td>Shaggy Dog, The (1959)</td>\n",
       "    </tr>\n",
       "    <tr>\n",
       "      <th>998</th>\n",
       "      <td>1017.0</td>\n",
       "      <td>Swiss Family Robinson (1960)</td>\n",
       "    </tr>\n",
       "    <tr>\n",
       "      <th>999</th>\n",
       "      <td>1018.0</td>\n",
       "      <td>That Darn Cat! (1965)</td>\n",
       "    </tr>\n",
       "  </tbody>\n",
       "</table>\n",
       "<p>1000 rows × 2 columns</p>\n",
       "</div>"
      ],
      "text/plain": [
       "     movieId                                          title\n",
       "0        1.0                               Toy Story (1995)\n",
       "1        2.0                                 Jumanji (1995)\n",
       "2        3.0                        Grumpier Old Men (1995)\n",
       "3        4.0                       Waiting to Exhale (1995)\n",
       "4        5.0             Father of the Bride Part II (1995)\n",
       "..       ...                                            ...\n",
       "995   1014.0                               Pollyanna (1960)\n",
       "996   1015.0  Homeward Bound: The Incredible Journey (1993)\n",
       "997   1016.0                         Shaggy Dog, The (1959)\n",
       "998   1017.0                   Swiss Family Robinson (1960)\n",
       "999   1018.0                          That Darn Cat! (1965)\n",
       "\n",
       "[1000 rows x 2 columns]"
      ]
     },
     "execution_count": 24,
     "metadata": {},
     "output_type": "execute_result"
    }
   ],
   "source": [
    "df_movies=df_movies[:1000]\n",
    "df_ratings=df_ratings[:1000]\n",
    "df_movies"
   ]
  },
  {
   "cell_type": "code",
   "execution_count": 38,
   "metadata": {},
   "outputs": [
    {
     "data": {
      "text/plain": [
       "<883x10 sparse matrix of type '<class 'numpy.float32'>'\n",
       "\twith 1000 stored elements in Compressed Sparse Column format>"
      ]
     },
     "execution_count": 38,
     "metadata": {},
     "output_type": "execute_result"
    }
   ],
   "source": [
    "movie_users = df_ratings.pivot(index='movieId',columns='userId',values='rating').fillna(0)\n",
    "mat_movies_user=csc_matrix(movie_users.values)\n",
    "mat_movies_user"
   ]
  },
  {
   "cell_type": "code",
   "execution_count": 26,
   "metadata": {},
   "outputs": [],
   "source": [
    "#Mahatan Distance\n",
    "#Minkowski Distance\n",
    "#Euclidean Distance\n",
    "#Cosine Similarty\n",
    "model_knn = NearestNeighbors(metric='cosine',algorithm='brute',n_neighbors=20)"
   ]
  },
  {
   "cell_type": "code",
   "execution_count": 27,
   "metadata": {},
   "outputs": [
    {
     "data": {
      "text/plain": [
       "NearestNeighbors(algorithm='brute', metric='cosine', n_neighbors=20)"
      ]
     },
     "execution_count": 27,
     "metadata": {},
     "output_type": "execute_result"
    }
   ],
   "source": [
    "model_knn.fit(mat_movies_user)"
   ]
  },
  {
   "cell_type": "code",
   "execution_count": 43,
   "metadata": {},
   "outputs": [
    {
     "name": "stdout",
     "output_type": "stream",
     "text": [
      "Movie Selected: Dead Man Walking (1995) Index : 35\n",
      "Searching for recommendations.....\n",
      "464    Englishman Who Went Up a Hill But Came Down a ...\n",
      "467                          Hudsucker Proxy, The (1994)\n",
      "469                               In the Army Now (1994)\n",
      "453                                 Fugitive, The (1993)\n",
      "472                                  Inkwell, The (1994)\n",
      "473                What's Love Got to Do with It? (1993)\n",
      "470                           In the Line of Fire (1993)\n",
      "471                     In the Name of the Father (1993)\n",
      "724                                       Twister (1996)\n",
      "455                                  Getaway, The (1994)\n",
      "463                               Live Nude Girls (1995)\n",
      "462                          Hot Shots! Part Deux (1993)\n",
      "461                                Heaven & Earth (1993)\n",
      "460                                   Hard Target (1993)\n",
      "459                                 Guilty as Sin (1993)\n",
      "458                         Good Man in Africa, A (1994)\n",
      "457                                       Go Fish (1994)\n",
      "466                                 House Party 3 (1994)\n",
      "468                              I'll Do Anything (1994)\n",
      "725                                     Barb Wire (1996)\n",
      "Name: title, dtype: object\n"
     ]
    }
   ],
   "source": [
    "#recomender(movie_name)=> list of movie recomended\n",
    "def recommender(movie_name,data,model,n_recomendations):\n",
    "    model.fit(data)\n",
    "    idx=process.extractOne(movie_name,df_movies['title'])[2]\n",
    "    print('Movie Selected:',df_movies['title'][idx],'Index :',idx)\n",
    "    print('Searching for recommendations.....')\n",
    "    distances,indices=model.kneighbors(data[idx],n_neighbors=n_recomendations)\n",
    "    for i in indices:\n",
    "        print(df_movies['title'][i].where(i!=idx))\n",
    "   \n",
    "recommender('iron man',mat_movies_user,model_knn,20)\n",
    "\n",
    "    "
   ]
  },
  {
   "cell_type": "code",
   "execution_count": null,
   "metadata": {},
   "outputs": [],
   "source": []
  }
 ],
 "metadata": {
  "interpreter": {
   "hash": "d41caa59b88d5dd339980025f56d572feda1bdce592699e1103fa351a577dbfc"
  },
  "kernelspec": {
   "display_name": "Python 3.9.9 64-bit",
   "language": "python",
   "name": "python3"
  },
  "language_info": {
   "codemirror_mode": {
    "name": "ipython",
    "version": 3
   },
   "file_extension": ".py",
   "mimetype": "text/x-python",
   "name": "python",
   "nbconvert_exporter": "python",
   "pygments_lexer": "ipython3",
   "version": "3.9.9"
  },
  "orig_nbformat": 4
 },
 "nbformat": 4,
 "nbformat_minor": 2
}
